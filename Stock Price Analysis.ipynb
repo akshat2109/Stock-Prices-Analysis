{
  "cells": [
    {
      "cell_type": "markdown",
      "metadata": {
        "id": "LoPPqHiwEKIA"
      },
      "source": [
        "## Stock Price Analysis using News Headlines"
      ]
    },
    {
      "cell_type": "code",
      "execution_count": null,
      "metadata": {
        "id": "h_awK09IEKIG"
      },
      "outputs": [],
      "source": [
        "import pandas as pd"
      ]
    },
    {
      "cell_type": "code",
      "execution_count": null,
      "metadata": {
        "id": "tI3_MAIyEKII"
      },
      "outputs": [],
      "source": [
        "df=pd.read_csv(r'D:\\Data Science Projects/Data.csv', encoding = \"ISO-8859-1\")"
      ]
    },
    {
      "cell_type": "code",
      "execution_count": null,
      "metadata": {
        "id": "e4LaCe0sEKII",
        "outputId": "cafa5ae2-317b-4999-fa4e-166ceb06fc82"
      },
      "outputs": [],
      "source": [
        "df.head()"
      ]
    },
    {
      "cell_type": "code",
      "execution_count": null,
      "metadata": {
        "id": "1rniuAa5EKIL"
      },
      "outputs": [],
      "source": [
        "train = df[df['Date'] < '20150101']\n",
        "test = df[df['Date'] > '20141231']"
      ]
    },
    {
      "cell_type": "code",
      "execution_count": null,
      "metadata": {
        "id": "1wPmYgfrEKIM"
      },
      "outputs": [],
      "source": [
        "data=train.iloc[:,2:27]"
      ]
    },
    {
      "cell_type": "code",
      "execution_count": null,
      "metadata": {
        "id": "SxRjIx-8EKIN",
        "outputId": "e24a6d16-2ea7-4b3a-e13b-c2472762612a"
      },
      "outputs": [],
      "source": [
        "data.columns"
      ]
    },
    {
      "cell_type": "code",
      "execution_count": null,
      "metadata": {
        "id": "z_ZS1sw5EKIO"
      },
      "outputs": [],
      "source": [
        "data.replace(\"[^a-zA-Z]\",\" \", inplace=True)"
      ]
    },
    {
      "cell_type": "code",
      "execution_count": null,
      "metadata": {
        "id": "NPL1Z1FzEKIP",
        "outputId": "d621d8ec-0999-40db-9848-51be88eaa82a"
      },
      "outputs": [],
      "source": [
        "data.head()"
      ]
    },
    {
      "cell_type": "code",
      "execution_count": null,
      "metadata": {
        "id": "c7vnk4v7EKIQ",
        "outputId": "c8daaf53-c431-46c3-8842-79a0f3eaeb67"
      },
      "outputs": [],
      "source": [
        "list1= [i for i in range(25)]\n",
        "new_Index=[str(i) for i in list1]\n",
        "new_Index"
      ]
    },
    {
      "cell_type": "code",
      "execution_count": null,
      "metadata": {
        "id": "cna3YA0sEKIQ",
        "outputId": "2e24efe4-897a-4780-fcb4-2ca50275226d"
      },
      "outputs": [],
      "source": [
        "data.columns= new_Index\n",
        "data.head(5)"
      ]
    },
    {
      "cell_type": "code",
      "execution_count": null,
      "metadata": {
        "id": "LAvjAYzXEKIR",
        "outputId": "9c13f955-f3b5-49f9-81e2-fb6181b6d25a"
      },
      "outputs": [],
      "source": [
        "data.index"
      ]
    },
    {
      "cell_type": "code",
      "execution_count": null,
      "metadata": {
        "id": "OR2CqzMXEKIR",
        "outputId": "32720026-fd47-4142-c3cc-03f043f95c27"
      },
      "outputs": [],
      "source": [
        "len(data)"
      ]
    },
    {
      "cell_type": "code",
      "execution_count": null,
      "metadata": {
        "id": "atJeiuecEKIS",
        "outputId": "359bddb8-da8a-4540-841b-828b7c0f38e6"
      },
      "outputs": [],
      "source": [
        "\n",
        "data['0']"
      ]
    },
    {
      "cell_type": "code",
      "execution_count": null,
      "metadata": {
        "id": "7RsmQsFQEKIT",
        "outputId": "198cc247-0cea-4fab-f346-a06ba0a5d076"
      },
      "outputs": [],
      "source": [
        "for index in new_Index:\n",
        "    data[index]=data[index].str.lower()\n",
        "data.head(1)"
      ]
    },
    {
      "cell_type": "code",
      "execution_count": null,
      "metadata": {
        "id": "LzgYWxwyEKIU",
        "outputId": "cf7049ee-a490-4706-c684-a7d8ab06ea88"
      },
      "outputs": [],
      "source": [
        "data.iloc[1,0:25]"
      ]
    },
    {
      "cell_type": "code",
      "execution_count": null,
      "metadata": {
        "id": "iv3wR2mMEKIV",
        "outputId": "a246c959-d105-43ec-f678-2816a6349aa7"
      },
      "outputs": [],
      "source": [
        "' '.join([str(x) for x in data.iloc[1,0:25]])"
      ]
    },
    {
      "cell_type": "code",
      "execution_count": null,
      "metadata": {
        "id": "EYmPIVqPEKIV"
      },
      "outputs": [],
      "source": [
        "headlines=[]\n",
        "for row in range(0,len(data)):\n",
        "    headlines.append(' '.join([str(i) for i in data.iloc[row,0:25]]))"
      ]
    },
    {
      "cell_type": "code",
      "execution_count": null,
      "metadata": {
        "id": "dbXVoyqyEKIW",
        "outputId": "f8b102f4-7c36-44a6-be1e-366d27c5247c"
      },
      "outputs": [],
      "source": [
        "headlines[0:3]"
      ]
    },
    {
      "cell_type": "markdown",
      "metadata": {
        "id": "pHHg_zRQEKIW"
      },
      "source": [
        "### Implement Bag of Words"
      ]
    },
    {
      "cell_type": "code",
      "execution_count": null,
      "metadata": {
        "id": "98NBW5IvEKIX"
      },
      "outputs": [],
      "source": [
        "from sklearn.feature_extraction.text import CountVectorizer\n",
        "from sklearn.ensemble import RandomForestClassifier"
      ]
    },
    {
      "cell_type": "code",
      "execution_count": null,
      "metadata": {
        "id": "Fg-kGiO_EKIX"
      },
      "outputs": [],
      "source": [
        "cv=CountVectorizer(ngram_range=(2,2))\n",
        "traindata_x=cv.fit_transform(headlines)"
      ]
    },
    {
      "cell_type": "code",
      "execution_count": null,
      "metadata": {
        "id": "GzCwHzcKEKIX",
        "outputId": "080a092d-2de3-4eea-b09a-09717aaada3d"
      },
      "outputs": [],
      "source": [
        "randomclassifier=RandomForestClassifier(n_estimators=200,criterion='entropy')\n",
        "randomclassifier.fit(traindata_x,train['Label'])"
      ]
    },
    {
      "cell_type": "code",
      "execution_count": null,
      "metadata": {
        "id": "u8oq0qJQEKIY"
      },
      "outputs": [],
      "source": [
        "test_transform= []\n",
        "for row in range(0,len(test)):\n",
        "    test_transform.append(' '.join(str(x) for x in test.iloc[row,2:27]))\n"
      ]
    },
    {
      "cell_type": "code",
      "execution_count": null,
      "metadata": {
        "id": "0QMDj8e6EKIY"
      },
      "outputs": [],
      "source": [
        "test_data = cv.transform(test_transform)\n"
      ]
    },
    {
      "cell_type": "code",
      "execution_count": null,
      "metadata": {
        "id": "j7RF6zKYEKIY",
        "outputId": "e34836b5-6c44-44d5-9521-9a210f7ecb25"
      },
      "outputs": [],
      "source": [
        "randomclassifier.fit(traindata_x,train['Label'])"
      ]
    },
    {
      "cell_type": "code",
      "execution_count": null,
      "metadata": {
        "id": "s2NB7uxZEKIY"
      },
      "outputs": [],
      "source": [
        "predictions = randomclassifier.predict(test_data)"
      ]
    },
    {
      "cell_type": "markdown",
      "metadata": {
        "id": "rMlVcUOIEKIZ"
      },
      "source": [
        "## Plot Confusion Matrix"
      ]
    },
    {
      "cell_type": "code",
      "execution_count": null,
      "metadata": {
        "id": "NNzZ38_0EKIZ"
      },
      "outputs": [],
      "source": [
        "from sklearn import metrics\n",
        "import numpy as np\n",
        "import matplotlib.pyplot as plt\n",
        "def plot_confusion_matrix(cm, title='Confusion matrix', cmap=plt.cm.Blues, labels=[\"positive\", \"negative\"]):\n",
        "    plt.imshow(cm, interpolation='nearest', cmap=cmap)\n",
        "    plt.title(title)\n",
        "    plt.colorbar()\n",
        "    tick_marks = np.arange(len(labels))\n",
        "    plt.xticks(tick_marks, labels, rotation=45)\n",
        "    plt.yticks(tick_marks, labels)\n",
        "    plt.tight_layout()\n",
        "    plt.ylabel('True label')\n",
        "    plt.xlabel('Predicted label')\n",
        "    "
      ]
    },
    {
      "cell_type": "code",
      "execution_count": null,
      "metadata": {
        "id": "RqO0SSfCEKIa",
        "outputId": "a4e77a9a-1aff-4108-8134-337ab9508e96"
      },
      "outputs": [],
      "source": [
        "plt.figure()\n",
        "cm=confusion_matrix(test['Label'],predictions)\n",
        "print(cm)\n",
        "plot_confusion_matrix(cm)    \n",
        "plt.show()"
      ]
    },
    {
      "cell_type": "code",
      "execution_count": null,
      "metadata": {
        "id": "Bjokg-T7EKIb"
      },
      "outputs": [],
      "source": [
        "from sklearn.metrics import classification_report,confusion_matrix,accuracy_score"
      ]
    },
    {
      "cell_type": "code",
      "execution_count": null,
      "metadata": {
        "id": "Zp7-shiDEKIc",
        "outputId": "1b53815f-27c0-4f0f-ece8-c8c6e7a2d8a7"
      },
      "outputs": [],
      "source": [
        "score=accuracy_score(test['Label'],predictions)\n",
        "print(score)\n",
        "report=classification_report(test['Label'],predictions)\n",
        "print(report)"
      ]
    },
    {
      "cell_type": "markdown",
      "metadata": {
        "id": "UvVtBMeYEKId"
      },
      "source": [
        "## Implement MultinomialNB"
      ]
    },
    {
      "cell_type": "code",
      "execution_count": null,
      "metadata": {
        "id": "vAfoUX2TEKId",
        "outputId": "860e6593-a908-4b94-fdfb-adbf918fe7fb"
      },
      "outputs": [],
      "source": [
        "from sklearn.naive_bayes import MultinomialNB\n",
        "nb=MultinomialNB()\n",
        "nb.fit(traindata_x,train['Label'])\n",
        "\n",
        "predictions = nb.predict(test_data)\n",
        "matrix=confusion_matrix(test['Label'],predictions)\n",
        "print(matrix)\n",
        "score=accuracy_score(test['Label'],predictions)\n",
        "print(score)\n",
        "report=classification_report(test['Label'],predictions)\n",
        "print(report)"
      ]
    },
    {
      "cell_type": "code",
      "execution_count": null,
      "metadata": {
        "id": "bQG-pLGsEKIe",
        "outputId": "0b115a69-e3b8-4508-daa3-9bedd16688f8"
      },
      "outputs": [],
      "source": [
        "plot_confusion_matrix(matrix)"
      ]
    }
  ],
  "metadata": {
    "colab": {
      "name": "NLP_Stock Sentiment Analysis_-deploy.ipynb",
      "provenance": []
    },
    "kernelspec": {
      "display_name": "Python 3",
      "language": "python",
      "name": "python3"
    },
    "language_info": {
      "codemirror_mode": {
        "name": "ipython",
        "version": 3
      },
      "file_extension": ".py",
      "mimetype": "text/x-python",
      "name": "python",
      "nbconvert_exporter": "python",
      "pygments_lexer": "ipython3",
      "version": "3.7.4"
    }
  },
  "nbformat": 4,
  "nbformat_minor": 0
}
